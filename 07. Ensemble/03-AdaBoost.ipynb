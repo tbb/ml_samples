{
 "cells": [
  {
   "cell_type": "markdown",
   "metadata": {},
   "source": [
    "Алгоритм бустинга в общем:\n",
    "1. Извлечь случайное подмножество тренировочных образцов $d_1$ без возврата из тренировочного набора $D$ для тренировки слабого ученика C_1\n",
    "2. Извлечь следующее случайное поднмножество тренировочных образцов $d_2$ без возврата и добавить 50% ранее ошибочно классифицированных образцов для тренировки слабого ученика $C_2$\n",
    "3. Найти в тренировочном наборе $D$ тренировочных образцы $d_3$, по которым $C_1$ и $С_2$ расходятся, для тренировки третьего слабого ученика $C_3$. \n",
    "4. Объединить слабых учеников $C_1$, $C_2$, $C_3$ с помощью мажоритарного голосования"
   ]
  },
  {
   "cell_type": "markdown",
   "metadata": {},
   "source": [
    "AdaBoost - adaptive boosting - адаптивный бустинг, подстраивается под сложные объекты при обучении\n",
    "Алгоритм AdaBoost:\n",
    "1. Назначить весовому вектору $w$ равномерные веса, где $ \\sum_iw_i=1$\n",
    "2. Для j в m раундах бустинга следать следущее:\n",
    "    1. Натренировать взвешенного слабого ученика $C_j=train(X, y, x)$\n",
    "    2. Идентифицировать метки классов $\\hat{y}=predict(C_j, X)$\n",
    "    3. Вычислить взвешенную частоту появления ошибок $\\epsilon=w*(\\hat{y}\\not=y)$\n",
    "    4. Вычислить коэффициент $a_j=0.5*log\\frac{1-\\epsilon}{\\epsilon}$\n",
    "    5. Обновить веса $w: w \\times exp (-a_j \\times \\hat{y} \\times y)$"
   ]
  },
  {
   "cell_type": "code",
   "execution_count": 15,
   "metadata": {},
   "outputs": [],
   "source": [
    "import numpy as np\n",
    "import pandas as pd\n",
    "from matplotlib import pyplot as plt\n",
    "%matplotlib inline\n",
    "\n",
    "from sklearn.preprocessing import LabelEncoder\n",
    "from sklearn.model_selection import train_test_split\n",
    "from sklearn.ensemble import AdaBoostClassifier\n",
    "from sklearn.tree import DecisionTreeClassifier\n",
    "from sklearn.metrics import accuracy_score"
   ]
  },
  {
   "cell_type": "code",
   "execution_count": 10,
   "metadata": {},
   "outputs": [],
   "source": [
    "df = pd.read_csv('../data/wine/wine.data')\n",
    "df.columns = ['Label', 'Alcohol', 'Malic acid', 'Ash',\n",
    "              'Alcalinity of ash', 'Magnesium',\n",
    "              'Total phenols', 'Flavanoids',\n",
    "              'Nonflavanoid phenols', 'Proanthocyanins',\n",
    "              'Color intensity', 'Hue', 'OD280_OD315',\n",
    "              'Proline']\n",
    "df = df[df['Label'] != 1]\n",
    "y = df['Label'].values\n",
    "X = df[['Alcohol', 'Hue']].values\n",
    "\n",
    "le = LabelEncoder()\n",
    "y = le.fit_transform(y)\n",
    "X_train, X_test, y_train, y_test = train_test_split(X, y, test_size=.4,\n",
    "                                                    random_state=1)"
   ]
  },
  {
   "cell_type": "code",
   "execution_count": 11,
   "metadata": {},
   "outputs": [
    {
     "name": "stdout",
     "output_type": "stream",
     "text": [
      "Tree train/test accuracy score: 0.845/0.854\n",
      "AdaBoost train/test accuracy score: 1.000/0.875\n"
     ]
    }
   ],
   "source": [
    "tree = DecisionTreeClassifier(criterion='entropy',\n",
    "                              max_depth=1,\n",
    "                              random_state=0)\n",
    "ada = AdaBoostClassifier(base_estimator=tree,\n",
    "                         n_estimators=500, \n",
    "                         learning_rate=.1,\n",
    "                         random_state=0)\n",
    "\n",
    "tree.fit(X_train, y_train)\n",
    "tree_train = accuracy_score(y_train, tree.predict(X_train))\n",
    "tree_test = accuracy_score(y_test, tree.predict(X_test))\n",
    "print(f'Tree train/test accuracy score: {tree_train:.3f}/{tree_test:.3f}')\n",
    "\n",
    "ada.fit(X_train, y_train)\n",
    "ada_train = accuracy_score(y_train, ada.predict(X_train))\n",
    "ada_test = accuracy_score(y_test, ada.predict(X_test))\n",
    "print(f'AdaBoost train/test accuracy score: {ada_train:.3f}/{ada_test:.3f}')"
   ]
  },
  {
   "cell_type": "code",
   "execution_count": 16,
   "metadata": {},
   "outputs": [
    {
     "data": {
      "image/png": "[encoded data removed]",
      "text/plain": [
       "<Figure size 576x216 with 2 Axes>"
      ]
     },
     "metadata": {
      "needs_background": "light"
     },
     "output_type": "display_data"
    }
   ],
   "source": [
    "x_min = X_train[:, 0].min() - 1\n",
    "x_max = X_train[:, 0].max() + 1\n",
    "y_min = X_train[:, 1].min() - 1\n",
    "y_max = X_train[:, 1].max() + 1\n",
    "\n",
    "xx, yy = np.meshgrid(np.arange(x_min, x_max, .1),\n",
    "                     np.arange(y_min, y_max, .1))\n",
    "f, axarr = plt.subplots(nrows=1, ncols=2,\n",
    "                        sharex='col', \n",
    "                        sharey='row',\n",
    "                        figsize=(8, 3))\n",
    "for idx, clf, tt in zip([0, 1],\n",
    "                        [tree, ada],\n",
    "                        ['Decision tree', 'Ada Boost']):\n",
    "    clf.fit(X_train, y_train)\n",
    "    Z = clf.predict(np.c_[xx.ravel(), yy.ravel()])\n",
    "    Z = Z.reshape(xx.shape)\n",
    "    axarr[idx].contourf(xx, yy, Z, alpha=.3)\n",
    "    axarr[idx].scatter(X_train[y_train==0, 0],\n",
    "                       X_train[y_train==0, 1],\n",
    "                       c='blue', marker='^')\n",
    "    axarr[idx].scatter(X_train[y_train==1, 0],\n",
    "                       X_train[y_train==1, 1],\n",
    "                       c='red', marker='o')\n",
    "    axarr[idx].set_title(tt)\n",
    "axarr[0].set_ylabel('Alcohol', fontsize=12)\n",
    "plt.text(10.2, -1.2,\n",
    "         s='Hue', fontsize=12,\n",
    "         ha='center', va='center')\n",
    "plt.show()"
   ]
  },
  {
   "cell_type": "code",
   "execution_count": null,
   "metadata": {},
   "outputs": [],
   "source": []
  }
 ],
 "metadata": {
  "kernelspec": {
   "display_name": "Python 3",
   "language": "python",
   "name": "python3"
  },
  "language_info": {
   "codemirror_mode": {
    "name": "ipython",
    "version": 3
   },
   "file_extension": ".py",
   "mimetype": "text/x-python",
   "name": "python",
   "nbconvert_exporter": "python",
   "pygments_lexer": "ipython3",
   "version": "3.6.2"
  }
 },
 "nbformat": 4,
 "nbformat_minor": 2
}
